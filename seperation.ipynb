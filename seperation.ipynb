{
 "cells": [
  {
   "cell_type": "markdown",
   "metadata": {},
   "source": [
    "To start we had a folder with all the data separated into folders by class. We used the following code to load the data and split it into training, testing, and validation sets."
   ]
  },
  {
   "cell_type": "code",
   "execution_count": 1,
   "metadata": {},
   "outputs": [],
   "source": [
    "import os\n",
    "import shutil\n",
    "import random\n",
    "\n",
    "source_dir = './originalData/train'  \n",
    "target_base = 'data'      \n",
    "\n",
    "splits = ['train', 'val', 'test']\n",
    "split_ratios = [0.7, 0.15, 0.15]\n",
    "\n",
    "for class_name in os.listdir(source_dir):\n",
    "    class_path = os.path.join(source_dir, class_name)\n",
    "    if not os.path.isdir(class_path):\n",
    "        continue\n",
    "\n",
    "    files = os.listdir(class_path)\n",
    "    random.shuffle(files)\n",
    "\n",
    "    total = len(files)\n",
    "    train_end = int(split_ratios[0] * total)\n",
    "    val_end = train_end + int(split_ratios[1] * total)\n",
    "\n",
    "    split_files = {\n",
    "        'train': files[:train_end],\n",
    "        'val': files[train_end:val_end],\n",
    "        'test': files[val_end:]\n",
    "    }\n",
    "\n",
    "    for split in splits:\n",
    "        split_dir = os.path.join(target_base, split, class_name)\n",
    "        os.makedirs(split_dir, exist_ok=True)\n",
    "        for file in split_files[split]:\n",
    "            src = os.path.join(class_path, file)\n",
    "            dst = os.path.join(split_dir, file)\n",
    "            shutil.copy2(src, dst)\n"
   ]
  }
 ],
 "metadata": {
  "kernelspec": {
   "display_name": "base",
   "language": "python",
   "name": "python3"
  },
  "language_info": {
   "codemirror_mode": {
    "name": "ipython",
    "version": 3
   },
   "file_extension": ".py",
   "mimetype": "text/x-python",
   "name": "python",
   "nbconvert_exporter": "python",
   "pygments_lexer": "ipython3",
   "version": "3.12.7"
  }
 },
 "nbformat": 4,
 "nbformat_minor": 2
}
